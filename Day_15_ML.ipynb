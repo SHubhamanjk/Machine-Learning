{
  "nbformat": 4,
  "nbformat_minor": 0,
  "metadata": {
    "colab": {
      "provenance": []
    },
    "kernelspec": {
      "name": "python3",
      "display_name": "Python 3"
    },
    "language_info": {
      "name": "python"
    }
  },
  "cells": [
    {
      "cell_type": "code",
      "execution_count": 1,
      "metadata": {
        "colab": {
          "base_uri": "https://localhost:8080/"
        },
        "id": "C4vwnl_VjIc5",
        "outputId": "2ac96ad5-6cdb-4f5e-d922-4c7bbb53338a"
      },
      "outputs": [
        {
          "output_type": "stream",
          "name": "stdout",
          "text": [
            "{'a': array([1, 2, 3, 4, 5]), 'b': [6, 7, 8]}\n"
          ]
        }
      ],
      "source": [
        "from joblib import dump, load\n",
        "\n",
        "# An example object with a large array (using numpy)\n",
        "import numpy as np\n",
        "data = {'a': np.array([1, 2, 3, 4, 5]), 'b': [6, 7, 8]}\n",
        "\n",
        "# Serializing the object\n",
        "dump(data, 'data.joblib')\n",
        "\n",
        "# Deserializing the object\n",
        "data_loaded = load('data.joblib')\n",
        "print(data_loaded)\n"
      ]
    },
    {
      "cell_type": "code",
      "source": [
        "import pickle\n",
        "\n",
        "# An example object\n",
        "data = {'a': [1, 2.0, 3, 4+6j],\n",
        "        'b': (\"character string\", b\"byte string\"),\n",
        "        'c': {None, True, False}}\n",
        "\n",
        "# Serializing the object\n",
        "with open('data.pkl', 'wb') as f:\n",
        "    pickle.dump(data, f)\n",
        "\n",
        "# Deserializing the object\n",
        "with open('data.pkl', 'rb') as f:\n",
        "    data_loaded = pickle.load(f)\n",
        "print(data_loaded)\n"
      ],
      "metadata": {
        "colab": {
          "base_uri": "https://localhost:8080/"
        },
        "id": "51fzgu7KjVMR",
        "outputId": "c1a4597d-742e-4604-a708-ca5f960e238c"
      },
      "execution_count": 2,
      "outputs": [
        {
          "output_type": "stream",
          "name": "stdout",
          "text": [
            "{'a': [1, 2.0, 3, (4+6j)], 'b': ('character string', b'byte string'), 'c': {False, True, None}}\n"
          ]
        }
      ]
    }
  ]
}